{
 "cells": [
  {
   "cell_type": "markdown",
   "metadata": {},
   "source": [
    "# Publications markdown generator for academicpages\n",
    "\n",
    "Takes a TSV of publications with metadata and converts them for use with [academicpages.github.io](academicpages.github.io). This is an interactive Jupyter notebook ([see more info here](http://jupyter-notebook-beginner-guide.readthedocs.io/en/latest/what_is_jupyter.html)). The core python code is also in `publications.py`. Run either from the `markdown_generator` folder after replacing `publications.tsv` with one containing your data.\n",
    "\n",
    "TODO: Make this work with BibTex and other databases of citations, rather than Stuart's non-standard TSV format and citation style.\n"
   ]
  },
  {
   "cell_type": "markdown",
   "metadata": {},
   "source": [
    "## Data format\n",
    "\n",
    "The TSV needs to have the following columns: pub_date, title, venue, excerpt, citation, site_url, and paper_url, with a header at the top. \n",
    "\n",
    "- `excerpt` and `paper_url` can be blank, but the others must have values. \n",
    "- `pub_date` must be formatted as YYYY-MM-DD.\n",
    "- `url_slug` will be the descriptive part of the .md file and the permalink URL for the page about the paper. The .md file will be `YYYY-MM-DD-[url_slug].md` and the permalink will be `https://[yourdomain]/publications/YYYY-MM-DD-[url_slug]`\n",
    "\n",
    "This is how the raw file looks (it doesn't look pretty, use a spreadsheet or other program to edit and create)."
   ]
  },
  {
   "cell_type": "code",
   "execution_count": 1,
   "metadata": {},
   "outputs": [
    {
     "name": "stdout",
     "output_type": "stream",
     "text": [
      "pub_date\ttitle\tvenue\texcerpt\tcitation\turl_slug\tpaper_url\tnote\r\n",
      "2020-10-25\tSecuring the Internet of Things from the Bottom Up Using Physical Unclonable Functions\tThe Eleventh International Conference on Cloud Computing, GRIDs, and Virtualization, Proceedings\tThis paper is about Physical Unclonable Functions and their use in Internet of Things devices.\tL. Lathrop, S. Liebl, U. Raithel, M. Söllner, and A. Aßmuth, “Securing the Internet of Things from the Bottom Up Using Physical Unclonable Functions,” in The Eleventh International Conference on Cloud Computing, GRIDs, and Virtualization, Proceedings, Nice, France, 25th to 29th October 2020, p. 44 to 49.\tCC2020-2\thttps://www.researchgate.net/publication/344900322_Securing_the_Internet_of_Things_from_the_Bottom_Up_Using_Physical_Unclonable_Functions\tThis work was mainly done by my great colleague Leah Lathrop, have a look at her [papers](https://www.researchgate.net/profile/Leah-Lathrop).\r\n",
      "2020-10-26\tThreat Analysis of Industrial Internet of Things Devices\tThe Eleventh International Conference on Cloud Computing, GRIDs, and Virtualization, Proceedings\t\"This paper is about the procedure for the threat analysis in our research project \"\"iSEC\"\" and received the <b>best paper award</b>. \"\tS. Liebl, L. Lathrop, U. Raithel, M. Söllner, and A. Aßmuth, “Threat Analysis of Industrial Internet of Things Devices,” in The Eleventh International Conference on Cloud Computing, GRIDs, and Virtualization, Proceedings, Nice, France, 25th to 29th October 2020, p. 31 to 37.\tCC2020-1\thttps://www.researchgate.net/publication/345060878_Threat_Analysis_of_Industrial_Internet_of_Things_Devices\tThis paper is about the procedure for the threat analysis in our research project 'iSEC'. The paper received the ['Best Paper Award'](https://www.iaria.org/conferences2020/awardsCLOUDCOMPUTING20/cloudcomputing2020_a2.pdf)\r\n",
      "2021-02-01\tSecuring Low-Power Industrial Devices in Critical Infrastructures\tResearch Report 2021 of the Technical University OTH Amberg- Weiden\tThis report summarizes our research project “iSEC” at OTH Amberg-Weiden.\tS. Liebl, L. Lathrop, A. Aßmuth, and M. Söllner, “Securing Low-Power Industrial Devices in Critical Infrastructures,” in Research Report 2021 of the Technical University OTH Amberg- Weiden, 2021, p. 72 to 76.\tOTH2021-1\thttps://www.researchgate.net/publication/351102754_Securing_Low-Power_Industrial_Devices_in_Critical_Infrastructures\tWe described the progress of our 3-year research project “iSEC”.\r\n",
      "2021-04-18\tA Secure and Privacy-Friendly Logging Scheme\tThe Twelfth International Conference on Cloud Computing, GRIDs, and Virtualization\tThis paper is about a secure and privacy-friendly logging scheme that uses secret sharing and an immutable database.\tA. Aßmuth, R. Duncan, S. Liebl, and M. Söllner, “A Secure and Privacy-Friendly Logging Scheme,” in The Twelfth International Conference on Cloud Computing, GRIDs, and Virtualization, Proceedings, Porto, Portugal, 18th to 22nd April 2021, p. 8 to 12.\tCC2021-1\thttps://www.researchgate.net/publication/351083031_A_Secure_and_Privacy-Friendly_Logging_Scheme\tI came up with this idea while I was thinking about privacy in Industrial Internet of Things devices and machines, as many machines are shared by several employees. We have jointly expanded and improved the scheme.\r\n",
      "2021-12-31\tAnalyzing the Attack Surface and Threats of Industrial Internet of Things Devices\tInternational Journal on Advances in Security\tThis paper is an extension of our paper about the threat analysis for industrial IoT devices. It contains more details about device components and assets as well as a categorization for threats and attacks and weaknesses.\tS. Liebl, L. Lathrop, U. Raithel, A. Aßmuth, I. Ferguson, and M. Söllner, “Analyzing the Attack Surface and Threats of Industrial Internet of Things Devices,” International Journal on Advances in Security, vol. 14, no. 1 & 2, pp. 59–70, 2021.\tAiS2021-1\thttps://www.researchgate.net/publication/358280672_Analyzing_the_Attack_Surface_and_Threats_of_Industrial_Internet_of_Things_Devices\tThis paper describes the characteristics of IIoT devices in details and presents a categorization for threats as well as for attacks and weaknesses. It is a step towards threat modeling for IoT devices. \r\n"
     ]
    }
   ],
   "source": [
    "!cat publications.tsv"
   ]
  },
  {
   "cell_type": "markdown",
   "metadata": {},
   "source": [
    "## Import pandas\n",
    "\n",
    "We are using the very handy pandas library for dataframes."
   ]
  },
  {
   "cell_type": "code",
   "execution_count": 2,
   "metadata": {},
   "outputs": [],
   "source": [
    "import pandas as pd"
   ]
  },
  {
   "cell_type": "markdown",
   "metadata": {},
   "source": [
    "## Import TSV\n",
    "\n",
    "Pandas makes this easy with the read_csv function. We are using a TSV, so we specify the separator as a tab, or `\\t`.\n",
    "\n",
    "I found it important to put this data in a tab-separated values format, because there are a lot of commas in this kind of data and comma-separated values can get messed up. However, you can modify the import statement, as pandas also has read_excel(), read_json(), and others."
   ]
  },
  {
   "cell_type": "code",
   "execution_count": 3,
   "metadata": {},
   "outputs": [
    {
     "data": {
      "text/html": [
       "<div>\n",
       "<style scoped>\n",
       "    .dataframe tbody tr th:only-of-type {\n",
       "        vertical-align: middle;\n",
       "    }\n",
       "\n",
       "    .dataframe tbody tr th {\n",
       "        vertical-align: top;\n",
       "    }\n",
       "\n",
       "    .dataframe thead th {\n",
       "        text-align: right;\n",
       "    }\n",
       "</style>\n",
       "<table border=\"1\" class=\"dataframe\">\n",
       "  <thead>\n",
       "    <tr style=\"text-align: right;\">\n",
       "      <th></th>\n",
       "      <th>pub_date</th>\n",
       "      <th>title</th>\n",
       "      <th>venue</th>\n",
       "      <th>excerpt</th>\n",
       "      <th>citation</th>\n",
       "      <th>url_slug</th>\n",
       "      <th>paper_url</th>\n",
       "      <th>note</th>\n",
       "    </tr>\n",
       "  </thead>\n",
       "  <tbody>\n",
       "    <tr>\n",
       "      <th>0</th>\n",
       "      <td>2020-10-25</td>\n",
       "      <td>Securing the Internet of Things from the Botto...</td>\n",
       "      <td>The Eleventh International Conference on Cloud...</td>\n",
       "      <td>This paper is about Physical Unclonable Functi...</td>\n",
       "      <td>L. Lathrop, S. Liebl, U. Raithel, M. Söllner, ...</td>\n",
       "      <td>CC2020-2</td>\n",
       "      <td>https://www.researchgate.net/publication/34490...</td>\n",
       "      <td>This work was mainly done by my great colleagu...</td>\n",
       "    </tr>\n",
       "    <tr>\n",
       "      <th>1</th>\n",
       "      <td>2020-10-26</td>\n",
       "      <td>Threat Analysis of Industrial Internet of Thin...</td>\n",
       "      <td>The Eleventh International Conference on Cloud...</td>\n",
       "      <td>This paper is about the procedure for the thre...</td>\n",
       "      <td>S. Liebl, L. Lathrop, U. Raithel, M. Söllner, ...</td>\n",
       "      <td>CC2020-1</td>\n",
       "      <td>https://www.researchgate.net/publication/34506...</td>\n",
       "      <td>This paper is about the procedure for the thre...</td>\n",
       "    </tr>\n",
       "    <tr>\n",
       "      <th>2</th>\n",
       "      <td>2021-02-01</td>\n",
       "      <td>Securing Low-Power Industrial Devices in Criti...</td>\n",
       "      <td>Research Report 2021 of the Technical Universi...</td>\n",
       "      <td>This report summarizes our research project “i...</td>\n",
       "      <td>S. Liebl, L. Lathrop, A. Aßmuth, and M. Söllne...</td>\n",
       "      <td>OTH2021-1</td>\n",
       "      <td>https://www.researchgate.net/publication/35110...</td>\n",
       "      <td>We described the progress of our 3-year resear...</td>\n",
       "    </tr>\n",
       "    <tr>\n",
       "      <th>3</th>\n",
       "      <td>2021-04-18</td>\n",
       "      <td>A Secure and Privacy-Friendly Logging Scheme</td>\n",
       "      <td>The Twelfth International Conference on Cloud ...</td>\n",
       "      <td>This paper is about a secure and privacy-frien...</td>\n",
       "      <td>A. Aßmuth, R. Duncan, S. Liebl, and M. Söllner...</td>\n",
       "      <td>CC2021-1</td>\n",
       "      <td>https://www.researchgate.net/publication/35108...</td>\n",
       "      <td>I came up with this idea while I was thinking ...</td>\n",
       "    </tr>\n",
       "    <tr>\n",
       "      <th>4</th>\n",
       "      <td>2021-12-31</td>\n",
       "      <td>Analyzing the Attack Surface and Threats of In...</td>\n",
       "      <td>International Journal on Advances in Security</td>\n",
       "      <td>This paper is an extension of our paper about ...</td>\n",
       "      <td>S. Liebl, L. Lathrop, U. Raithel, A. Aßmuth, I...</td>\n",
       "      <td>AiS2021-1</td>\n",
       "      <td>https://www.researchgate.net/publication/35828...</td>\n",
       "      <td>This paper describes the characteristics of II...</td>\n",
       "    </tr>\n",
       "  </tbody>\n",
       "</table>\n",
       "</div>"
      ],
      "text/plain": [
       "     pub_date                                              title  \\\n",
       "0  2020-10-25  Securing the Internet of Things from the Botto...   \n",
       "1  2020-10-26  Threat Analysis of Industrial Internet of Thin...   \n",
       "2  2021-02-01  Securing Low-Power Industrial Devices in Criti...   \n",
       "3  2021-04-18       A Secure and Privacy-Friendly Logging Scheme   \n",
       "4  2021-12-31  Analyzing the Attack Surface and Threats of In...   \n",
       "\n",
       "                                               venue  \\\n",
       "0  The Eleventh International Conference on Cloud...   \n",
       "1  The Eleventh International Conference on Cloud...   \n",
       "2  Research Report 2021 of the Technical Universi...   \n",
       "3  The Twelfth International Conference on Cloud ...   \n",
       "4      International Journal on Advances in Security   \n",
       "\n",
       "                                             excerpt  \\\n",
       "0  This paper is about Physical Unclonable Functi...   \n",
       "1  This paper is about the procedure for the thre...   \n",
       "2  This report summarizes our research project “i...   \n",
       "3  This paper is about a secure and privacy-frien...   \n",
       "4  This paper is an extension of our paper about ...   \n",
       "\n",
       "                                            citation   url_slug  \\\n",
       "0  L. Lathrop, S. Liebl, U. Raithel, M. Söllner, ...   CC2020-2   \n",
       "1  S. Liebl, L. Lathrop, U. Raithel, M. Söllner, ...   CC2020-1   \n",
       "2  S. Liebl, L. Lathrop, A. Aßmuth, and M. Söllne...  OTH2021-1   \n",
       "3  A. Aßmuth, R. Duncan, S. Liebl, and M. Söllner...   CC2021-1   \n",
       "4  S. Liebl, L. Lathrop, U. Raithel, A. Aßmuth, I...  AiS2021-1   \n",
       "\n",
       "                                           paper_url  \\\n",
       "0  https://www.researchgate.net/publication/34490...   \n",
       "1  https://www.researchgate.net/publication/34506...   \n",
       "2  https://www.researchgate.net/publication/35110...   \n",
       "3  https://www.researchgate.net/publication/35108...   \n",
       "4  https://www.researchgate.net/publication/35828...   \n",
       "\n",
       "                                                note  \n",
       "0  This work was mainly done by my great colleagu...  \n",
       "1  This paper is about the procedure for the thre...  \n",
       "2  We described the progress of our 3-year resear...  \n",
       "3  I came up with this idea while I was thinking ...  \n",
       "4  This paper describes the characteristics of II...  "
      ]
     },
     "execution_count": 3,
     "metadata": {},
     "output_type": "execute_result"
    }
   ],
   "source": [
    "publications = pd.read_csv(\"publications.tsv\", sep=\"\\t\", header=0)\n",
    "publications\n"
   ]
  },
  {
   "cell_type": "markdown",
   "metadata": {},
   "source": [
    "## Escape special characters\n",
    "\n",
    "YAML is very picky about how it takes a valid string, so we are replacing single and double quotes (and ampersands) with their HTML encoded equivilents. This makes them look not so readable in raw format, but they are parsed and rendered nicely."
   ]
  },
  {
   "cell_type": "code",
   "execution_count": 4,
   "metadata": {},
   "outputs": [],
   "source": [
    "html_escape_table = {\n",
    "    \"&\": \"&amp;\",\n",
    "    '\"': \"&quot;\",\n",
    "    \"'\": \"&apos;\"\n",
    "    }\n",
    "\n",
    "def html_escape(text):\n",
    "    \"\"\"Produce entities within text.\"\"\"\n",
    "    return \"\".join(html_escape_table.get(c,c) for c in text)"
   ]
  },
  {
   "cell_type": "markdown",
   "metadata": {},
   "source": [
    "## Creating the markdown files\n",
    "\n",
    "This is where the heavy lifting is done. This loops through all the rows in the TSV dataframe, then starts to concatentate a big string (```md```) that contains the markdown for each type. It does the YAML metadata first, then does the description for the individual page."
   ]
  },
  {
   "cell_type": "code",
   "execution_count": 5,
   "metadata": {},
   "outputs": [],
   "source": [
    "import os\n",
    "for row, item in publications.iterrows():\n",
    "    \n",
    "    md_filename = str(item.pub_date) + \"-\" + item.url_slug + \".md\"\n",
    "    html_filename = str(item.pub_date) + \"-\" + item.url_slug\n",
    "    year = item.pub_date[:4]\n",
    "    \n",
    "    ## YAML variables\n",
    "    \n",
    "    md = \"---\\ntitle: \\\"\"   + item.title + '\"\\n'\n",
    "    \n",
    "    md += \"\"\"collection: publications\"\"\"\n",
    "    \n",
    "    md += \"\"\"\\npermalink: /publication/\"\"\" + html_filename\n",
    "    \n",
    "    if len(str(item.excerpt)) > 5:\n",
    "        md += \"\\nexcerpt: '\" + html_escape(item.excerpt) + \"'\"\n",
    "    \n",
    "    md += \"\\ndate: \" + str(item.pub_date) \n",
    "    \n",
    "    md += \"\\nvenue: '\" + html_escape(item.venue) + \"'\"\n",
    "    \n",
    "    if len(str(item.paper_url)) > 5:\n",
    "        md += \"\\npaperurl: '\" + item.paper_url + \"'\"\n",
    "    \n",
    "    md += \"\\ncitation: '\" + html_escape(item.citation) + \"'\"\n",
    "    \n",
    "    md += \"\\n---\"\n",
    "    \n",
    "    ## Markdown description for individual page\n",
    "        \n",
    "    #if len(str(item.excerpt)) > 5:\n",
    "    #    md += \"\\n\" + html_escape(item.excerpt) + \"\\n\"\n",
    "    \n",
    "    #if len(str(item.paper_url)) > 5:\n",
    "    #    md += \"\\n[Download paper here](\" + item.paper_url + \")\\n\" \n",
    "        \n",
    "    #md += \"\\nRecommended citation: \" + item.citation + \"\\n\"\n",
    "    \n",
    "    #md_filename = os.path.basename(md_filename)\n",
    "    \n",
    "    if len(str(item.note)) > 5:\n",
    "        md += \"\\n\" + html_escape(item.note) + \"\\n\"\n",
    "       \n",
    "    with open(\"../_publications/\" + md_filename, 'w') as f:\n",
    "        f.write(md)"
   ]
  },
  {
   "cell_type": "markdown",
   "metadata": {},
   "source": [
    "These files are in the publications directory, one directory below where we're working from."
   ]
  },
  {
   "cell_type": "code",
   "execution_count": 6,
   "metadata": {},
   "outputs": [
    {
     "name": "stdout",
     "output_type": "stream",
     "text": [
      "2020-10-25-CC2020-2.md\t2021-02-01-OTH2021-1.md  2021-12-30-AiS2021-1.md\r\n",
      "2020-10-26-CC2020-1.md\t2021-04-18-CC2021-1.md\t 2021-12-31-AiS2021-1.md\r\n"
     ]
    }
   ],
   "source": [
    "!ls ../_publications/"
   ]
  },
  {
   "cell_type": "code",
   "execution_count": 7,
   "metadata": {},
   "outputs": [
    {
     "name": "stdout",
     "output_type": "stream",
     "text": [
      "cat: ../_publications/2009-10-01-paper-title-number-1.md: No such file or directory\r\n"
     ]
    }
   ],
   "source": [
    "!cat ../_publications/2009-10-01-paper-title-number-1.md"
   ]
  },
  {
   "cell_type": "code",
   "execution_count": null,
   "metadata": {},
   "outputs": [],
   "source": []
  }
 ],
 "metadata": {
  "kernelspec": {
   "display_name": "Python 3 (ipykernel)",
   "language": "python",
   "name": "python3"
  },
  "language_info": {
   "codemirror_mode": {
    "name": "ipython",
    "version": 3
   },
   "file_extension": ".py",
   "mimetype": "text/x-python",
   "name": "python",
   "nbconvert_exporter": "python",
   "pygments_lexer": "ipython3",
   "version": "3.8.10"
  }
 },
 "nbformat": 4,
 "nbformat_minor": 1
}
